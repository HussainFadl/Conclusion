{
 "cells": [
  {
   "cell_type": "markdown",
   "id": "c2f6b52e-48d1-4e7c-982d-c16d031b4b21",
   "metadata": {},
   "source": [
    "https://buildingai.elementsofai.com/Conclusion/ai-idea-gallery"
   ]
  },
  {
   "cell_type": "code",
   "execution_count": null,
   "id": "3a9c5738-d051-4099-b55e-c7c994b8d129",
   "metadata": {},
   "outputs": [],
   "source": []
  }
 ],
 "metadata": {
  "kernelspec": {
   "display_name": "Python 3 (ipykernel)",
   "language": "python",
   "name": "python3"
  },
  "language_info": {
   "codemirror_mode": {
    "name": "ipython",
    "version": 3
   },
   "file_extension": ".py",
   "mimetype": "text/x-python",
   "name": "python",
   "nbconvert_exporter": "python",
   "pygments_lexer": "ipython3",
   "version": "3.8.19"
  }
 },
 "nbformat": 4,
 "nbformat_minor": 5
}
