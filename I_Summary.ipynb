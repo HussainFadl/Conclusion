{
 "cells": [
  {
   "cell_type": "markdown",
   "id": "86e7de0a-7771-4bcf-9a1d-640d0f4d3074",
   "metadata": {},
   "source": [
    "Congratulations! You’ve reached the end of the course. By this point, you should have a better understanding of what AI can do in practice, and more insight into what algorithms and programming methods make this possible. You might even have some ideas of a problem that could be solved using AI methods.\n",
    "\n",
    "We built this course to appeal to as broad an audience as possible, including people with programming knowledge and non-programmers. We hope this has whetted your appetite to learn more, and that some of you will be inspired to go ever deeper into the world of programming and what makes AI methods possible.\n",
    "\n",
    "So what now?\n",
    "As we have made sure to remind ourselves, even the latest AI technology – with deep learning and all – has limits. Some people, such as the well-known New York University psychology professor, author and entrepreneur Gary Marcus are saying we're going to enter another AI winter soon because of these limits. Who can tell?\n",
    "\n",
    "Jeremy Howard, perhaps best known as the co-founder of fast.ai, a deep learning platform and for his hugely popular (for good reason!) free online courses, says no one can reliably predict how fast and along which paths the science of AI will progress in the coming years. However, Howard also points out that it isn't really necessary to know what the next big thing in AI will be because even with the existing tools, we can solve huge problems of great societal importance.\n",
    "\n",
    "To conclude, it's now up to YOU to use existing AI technology to make the world a better place."
   ]
  },
  {
   "cell_type": "code",
   "execution_count": null,
   "id": "ec53887d-0e35-42f8-98ad-5a0816c11ef0",
   "metadata": {},
   "outputs": [],
   "source": []
  }
 ],
 "metadata": {
  "kernelspec": {
   "display_name": "Python 3 (ipykernel)",
   "language": "python",
   "name": "python3"
  },
  "language_info": {
   "codemirror_mode": {
    "name": "ipython",
    "version": 3
   },
   "file_extension": ".py",
   "mimetype": "text/x-python",
   "name": "python",
   "nbconvert_exporter": "python",
   "pygments_lexer": "ipython3",
   "version": "3.8.19"
  }
 },
 "nbformat": 4,
 "nbformat_minor": 5
}
